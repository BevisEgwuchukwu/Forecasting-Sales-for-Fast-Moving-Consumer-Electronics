{
 "cells": [
  {
   "cell_type": "code",
   "execution_count": 4,
   "id": "8b3d1d5d",
   "metadata": {},
   "outputs": [],
   "source": [
    "import numpy as np\n",
    "import pandas as pd\n",
    "import matplotlib.pyplot as plt\n",
    "import seaborn as sns\n",
    "import warnings\n",
    "\n",
    "warnings.filterwarnings(\"ignore\")\n",
    "pd.set_option('display.max_columns', None)"
   ]
  },
  {
   "cell_type": "code",
   "execution_count": 5,
   "id": "7c9ee3f3",
   "metadata": {},
   "outputs": [],
   "source": [
    "df = pd.read_csv(r'/Users/macintosh/Desktop/Forecasting-Sales-for-Fast-Moving-Consumer-Electronics/.venv/ElectroTech Forecasting Data.csv')"
   ]
  },
  {
   "cell_type": "code",
   "execution_count": 6,
   "id": "dffeac1d",
   "metadata": {},
   "outputs": [
    {
     "data": {
      "application/vnd.microsoft.datawrangler.viewer.v0+json": {
       "columns": [
        {
         "name": "index",
         "rawType": "int64",
         "type": "integer"
        },
        {
         "name": "Product_ID",
         "rawType": "int64",
         "type": "integer"
        },
        {
         "name": "Category",
         "rawType": "object",
         "type": "string"
        },
        {
         "name": "Price",
         "rawType": "float64",
         "type": "float"
        },
        {
         "name": "Date",
         "rawType": "object",
         "type": "string"
        },
        {
         "name": "Season",
         "rawType": "object",
         "type": "string"
        },
        {
         "name": "Market_Trend_Index",
         "rawType": "float64",
         "type": "float"
        },
        {
         "name": "Competitor_Activity_Score",
         "rawType": "float64",
         "type": "float"
        },
        {
         "name": "Consumer_Confidence_Index",
         "rawType": "float64",
         "type": "float"
        },
        {
         "name": "Product_Specification_1",
         "rawType": "object",
         "type": "string"
        },
        {
         "name": "Product_Specification_2",
         "rawType": "object",
         "type": "string"
        },
        {
         "name": "Sales_Volume",
         "rawType": "int64",
         "type": "integer"
        }
       ],
       "ref": "16a6de0e-0e49-4c2c-904e-dfe2f6ac6afd",
       "rows": [
        [
         "0",
         "1103",
         "Laptop",
         "105.32",
         "2009-01-01",
         "Winter",
         "-1.8591603715865013",
         "0.5466941855372691",
         "84.68046469210279",
         "Spec_C",
         "Long-Battery-Life",
         "49"
        ],
        [
         "1",
         "1436",
         "Tablet",
         "145.55",
         "2009-01-01",
         "Winter",
         "-0.345587409251901",
         "0.940428249755382",
         "42.91928800089818",
         "Spec_C",
         "Lightweight",
         "69"
        ],
        [
         "2",
         "1271",
         "Smartphone",
         "97.82",
         "2009-01-01",
         "Winter",
         "-0.3847379505720294",
         "0.7511546086783049",
         "55.19126812112067",
         "Spec_B",
         "Lightweight",
         "50"
        ],
        [
         "3",
         "1107",
         "Laptop",
         "64.0",
         "2009-01-01",
         "Winter",
         "0.7167626535654861",
         "0.1259389877084422",
         "88.74645425786699",
         "Spec_B",
         "High-Resolution",
         "28"
        ],
        [
         "4",
         "1072",
         "Tablet",
         "67.83",
         "2009-01-01",
         "Winter",
         "-0.2420735501360276",
         "-0.4129319331840168",
         "67.94753625227112",
         "Spec_A",
         "Long-Battery-Life",
         "81"
        ]
       ],
       "shape": {
        "columns": 11,
        "rows": 5
       }
      },
      "text/html": [
       "<div>\n",
       "<style scoped>\n",
       "    .dataframe tbody tr th:only-of-type {\n",
       "        vertical-align: middle;\n",
       "    }\n",
       "\n",
       "    .dataframe tbody tr th {\n",
       "        vertical-align: top;\n",
       "    }\n",
       "\n",
       "    .dataframe thead th {\n",
       "        text-align: right;\n",
       "    }\n",
       "</style>\n",
       "<table border=\"1\" class=\"dataframe\">\n",
       "  <thead>\n",
       "    <tr style=\"text-align: right;\">\n",
       "      <th></th>\n",
       "      <th>Product_ID</th>\n",
       "      <th>Category</th>\n",
       "      <th>Price</th>\n",
       "      <th>Date</th>\n",
       "      <th>Season</th>\n",
       "      <th>Market_Trend_Index</th>\n",
       "      <th>Competitor_Activity_Score</th>\n",
       "      <th>Consumer_Confidence_Index</th>\n",
       "      <th>Product_Specification_1</th>\n",
       "      <th>Product_Specification_2</th>\n",
       "      <th>Sales_Volume</th>\n",
       "    </tr>\n",
       "  </thead>\n",
       "  <tbody>\n",
       "    <tr>\n",
       "      <th>0</th>\n",
       "      <td>1103</td>\n",
       "      <td>Laptop</td>\n",
       "      <td>105.32</td>\n",
       "      <td>2009-01-01</td>\n",
       "      <td>Winter</td>\n",
       "      <td>-1.859160</td>\n",
       "      <td>0.546694</td>\n",
       "      <td>84.680465</td>\n",
       "      <td>Spec_C</td>\n",
       "      <td>Long-Battery-Life</td>\n",
       "      <td>49</td>\n",
       "    </tr>\n",
       "    <tr>\n",
       "      <th>1</th>\n",
       "      <td>1436</td>\n",
       "      <td>Tablet</td>\n",
       "      <td>145.55</td>\n",
       "      <td>2009-01-01</td>\n",
       "      <td>Winter</td>\n",
       "      <td>-0.345587</td>\n",
       "      <td>0.940428</td>\n",
       "      <td>42.919288</td>\n",
       "      <td>Spec_C</td>\n",
       "      <td>Lightweight</td>\n",
       "      <td>69</td>\n",
       "    </tr>\n",
       "    <tr>\n",
       "      <th>2</th>\n",
       "      <td>1271</td>\n",
       "      <td>Smartphone</td>\n",
       "      <td>97.82</td>\n",
       "      <td>2009-01-01</td>\n",
       "      <td>Winter</td>\n",
       "      <td>-0.384738</td>\n",
       "      <td>0.751155</td>\n",
       "      <td>55.191268</td>\n",
       "      <td>Spec_B</td>\n",
       "      <td>Lightweight</td>\n",
       "      <td>50</td>\n",
       "    </tr>\n",
       "    <tr>\n",
       "      <th>3</th>\n",
       "      <td>1107</td>\n",
       "      <td>Laptop</td>\n",
       "      <td>64.00</td>\n",
       "      <td>2009-01-01</td>\n",
       "      <td>Winter</td>\n",
       "      <td>0.716763</td>\n",
       "      <td>0.125939</td>\n",
       "      <td>88.746454</td>\n",
       "      <td>Spec_B</td>\n",
       "      <td>High-Resolution</td>\n",
       "      <td>28</td>\n",
       "    </tr>\n",
       "    <tr>\n",
       "      <th>4</th>\n",
       "      <td>1072</td>\n",
       "      <td>Tablet</td>\n",
       "      <td>67.83</td>\n",
       "      <td>2009-01-01</td>\n",
       "      <td>Winter</td>\n",
       "      <td>-0.242074</td>\n",
       "      <td>-0.412932</td>\n",
       "      <td>67.947536</td>\n",
       "      <td>Spec_A</td>\n",
       "      <td>Long-Battery-Life</td>\n",
       "      <td>81</td>\n",
       "    </tr>\n",
       "  </tbody>\n",
       "</table>\n",
       "</div>"
      ],
      "text/plain": [
       "   Product_ID    Category   Price        Date  Season  Market_Trend_Index  \\\n",
       "0        1103      Laptop  105.32  2009-01-01  Winter           -1.859160   \n",
       "1        1436      Tablet  145.55  2009-01-01  Winter           -0.345587   \n",
       "2        1271  Smartphone   97.82  2009-01-01  Winter           -0.384738   \n",
       "3        1107      Laptop   64.00  2009-01-01  Winter            0.716763   \n",
       "4        1072      Tablet   67.83  2009-01-01  Winter           -0.242074   \n",
       "\n",
       "   Competitor_Activity_Score  Consumer_Confidence_Index  \\\n",
       "0                   0.546694                  84.680465   \n",
       "1                   0.940428                  42.919288   \n",
       "2                   0.751155                  55.191268   \n",
       "3                   0.125939                  88.746454   \n",
       "4                  -0.412932                  67.947536   \n",
       "\n",
       "  Product_Specification_1 Product_Specification_2  Sales_Volume  \n",
       "0                  Spec_C       Long-Battery-Life            49  \n",
       "1                  Spec_C             Lightweight            69  \n",
       "2                  Spec_B             Lightweight            50  \n",
       "3                  Spec_B         High-Resolution            28  \n",
       "4                  Spec_A       Long-Battery-Life            81  "
      ]
     },
     "execution_count": 6,
     "metadata": {},
     "output_type": "execute_result"
    }
   ],
   "source": [
    "df.head()"
   ]
  },
  {
   "cell_type": "code",
   "execution_count": 7,
   "id": "34a45e2f",
   "metadata": {},
   "outputs": [
    {
     "data": {
      "text/plain": [
       "array(['Laptop', 'Tablet', 'Smartphone', 'Accessories'], dtype=object)"
      ]
     },
     "execution_count": 7,
     "metadata": {},
     "output_type": "execute_result"
    }
   ],
   "source": [
    "df['Category'].unique()"
   ]
  },
  {
   "cell_type": "code",
   "execution_count": 8,
   "id": "60ff08b5",
   "metadata": {},
   "outputs": [
    {
     "data": {
      "application/vnd.microsoft.datawrangler.viewer.v0+json": {
       "columns": [
        {
         "name": "index",
         "rawType": "object",
         "type": "string"
        },
        {
         "name": "0",
         "rawType": "int64",
         "type": "integer"
        }
       ],
       "ref": "4aad83c4-ba6b-4b29-9ce9-67d57664e69e",
       "rows": [
        [
         "Product_ID",
         "0"
        ],
        [
         "Category",
         "0"
        ],
        [
         "Price",
         "0"
        ],
        [
         "Date",
         "0"
        ],
        [
         "Season",
         "0"
        ],
        [
         "Market_Trend_Index",
         "0"
        ],
        [
         "Competitor_Activity_Score",
         "0"
        ],
        [
         "Consumer_Confidence_Index",
         "0"
        ],
        [
         "Product_Specification_1",
         "0"
        ],
        [
         "Product_Specification_2",
         "0"
        ],
        [
         "Sales_Volume",
         "0"
        ]
       ],
       "shape": {
        "columns": 1,
        "rows": 11
       }
      },
      "text/plain": [
       "Product_ID                   0\n",
       "Category                     0\n",
       "Price                        0\n",
       "Date                         0\n",
       "Season                       0\n",
       "Market_Trend_Index           0\n",
       "Competitor_Activity_Score    0\n",
       "Consumer_Confidence_Index    0\n",
       "Product_Specification_1      0\n",
       "Product_Specification_2      0\n",
       "Sales_Volume                 0\n",
       "dtype: int64"
      ]
     },
     "execution_count": 8,
     "metadata": {},
     "output_type": "execute_result"
    }
   ],
   "source": [
    "df.isnull().sum()"
   ]
  },
  {
   "cell_type": "code",
   "execution_count": 9,
   "id": "24bf9a30",
   "metadata": {},
   "outputs": [
    {
     "data": {
      "text/plain": [
       "0"
      ]
     },
     "execution_count": 9,
     "metadata": {},
     "output_type": "execute_result"
    }
   ],
   "source": [
    "df.duplicated().sum()"
   ]
  },
  {
   "cell_type": "code",
   "execution_count": 10,
   "id": "74925032",
   "metadata": {},
   "outputs": [
    {
     "name": "stdout",
     "output_type": "stream",
     "text": [
      "<class 'pandas.core.frame.DataFrame'>\n",
      "RangeIndex: 136193 entries, 0 to 136192\n",
      "Data columns (total 11 columns):\n",
      " #   Column                     Non-Null Count   Dtype  \n",
      "---  ------                     --------------   -----  \n",
      " 0   Product_ID                 136193 non-null  int64  \n",
      " 1   Category                   136193 non-null  object \n",
      " 2   Price                      136193 non-null  float64\n",
      " 3   Date                       136193 non-null  object \n",
      " 4   Season                     136193 non-null  object \n",
      " 5   Market_Trend_Index         136193 non-null  float64\n",
      " 6   Competitor_Activity_Score  136193 non-null  float64\n",
      " 7   Consumer_Confidence_Index  136193 non-null  float64\n",
      " 8   Product_Specification_1    136193 non-null  object \n",
      " 9   Product_Specification_2    136193 non-null  object \n",
      " 10  Sales_Volume               136193 non-null  int64  \n",
      "dtypes: float64(4), int64(2), object(5)\n",
      "memory usage: 11.4+ MB\n"
     ]
    }
   ],
   "source": [
    "df.info()"
   ]
  },
  {
   "cell_type": "code",
   "execution_count": 11,
   "id": "5fe6020d",
   "metadata": {},
   "outputs": [],
   "source": [
    "df['Date'] = pd.to_datetime(df['Date'], format='%Y-%m-%d')"
   ]
  },
  {
   "cell_type": "code",
   "execution_count": 12,
   "id": "f0e21594",
   "metadata": {},
   "outputs": [
    {
     "data": {
      "image/png": "[encoded data removed]",
      "text/plain": [
       "<Figure size 640x480 with 1 Axes>"
      ]
     },
     "metadata": {},
     "output_type": "display_data"
    },
    {
     "data": {
      "image/png": "[encoded data removed]",
      "text/plain": [
       "<Figure size 640x480 with 1 Axes>"
      ]
     },
     "metadata": {},
     "output_type": "display_data"
    },
    {
     "data": {
      "image/png": "[encoded data removed]",
      "text/plain": [
       "<Figure size 640x480 with 1 Axes>"
      ]
     },
     "metadata": {},
     "output_type": "display_data"
    },
    {
     "data": {
      "image/png": "[encoded data removed]",
      "text/plain": [
       "<Figure size 640x480 with 1 Axes>"
      ]
     },
     "metadata": {},
     "output_type": "display_data"
    },
    {
     "data": {
      "image/png": "[encoded data removed]",
      "text/plain": [
       "<Figure size 640x480 with 1 Axes>"
      ]
     },
     "metadata": {},
     "output_type": "display_data"
    }
   ],
   "source": [
    "# Outlier columns \n",
    "outlier_columns = df.select_dtypes(exclude=['object', 'datetime']).iloc[0:, 1:].columns.to_list()\n",
    "\n",
    "for col in outlier_columns:\n",
    "    plt.boxplot(df[col])\n",
    "    plt.title(col)\n",
    "    plt.show()"
   ]
  },
  {
   "cell_type": "markdown",
   "id": "7eb6717c",
   "metadata": {},
   "source": [
    "Save Preprocessed Data for Proper Exploratory Data Analysis\n"
   ]
  },
  {
   "cell_type": "code",
   "execution_count": 13,
   "id": "362fc628",
   "metadata": {},
   "outputs": [],
   "source": [
    "df.to_csv(r'Cleaned_data.csv', index=False)"
   ]
  },
  {
   "cell_type": "code",
   "execution_count": null,
   "id": "55fe5a20",
   "metadata": {},
   "outputs": [],
   "source": []
  }
 ],
 "metadata": {
  "kernelspec": {
   "display_name": "base",
   "language": "python",
   "name": "python3"
  },
  "language_info": {
   "codemirror_mode": {
    "name": "ipython",
    "version": 3
   },
   "file_extension": ".py",
   "mimetype": "text/x-python",
   "name": "python",
   "nbconvert_exporter": "python",
   "pygments_lexer": "ipython3",
   "version": "3.12.4"
  }
 },
 "nbformat": 4,
 "nbformat_minor": 5
}
