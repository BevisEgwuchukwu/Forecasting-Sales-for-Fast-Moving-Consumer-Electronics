{
 "cells": [
  {
   "cell_type": "markdown",
   "id": "3a14d9e5",
   "metadata": {},
   "source": [
    "# **Consumer Electronics Sales Forecasting**\n",
    "\n",
    "## **Focus:** Sales forecasting for fast moving consumer electronics to optimize inventory management and maximize profitability"
   ]
  },
  {
   "cell_type": "code",
   "execution_count": 1,
   "id": "6d2b188b",
   "metadata": {},
   "outputs": [],
   "source": [
    "import numpy as np\n",
    "import pandas as pd\n",
    "import matplotlib.pyplot as plt\n",
    "import seaborn as sns\n",
    "import warnings\n",
    "\n",
    "warnings.filterwarnings(\"ignore\")\n",
    "pd.set_option('display.max_columns', None)"
   ]
  },
  {
   "cell_type": "markdown",
   "id": "0e582388",
   "metadata": {},
   "source": [
    "### Import Data"
   ]
  },
  {
   "cell_type": "code",
   "execution_count": 2,
   "id": "86396250",
   "metadata": {},
   "outputs": [],
   "source": [
    "df = pd.read_csv('/Users/macintosh/Desktop/Forecasting-Sales-for-Fast-Moving-Consumer-Electronics/DataCleaning/ElectroTech Forecasting Data.csv')"
   ]
  },
  {
   "cell_type": "code",
   "execution_count": 3,
   "id": "fb53d999",
   "metadata": {},
   "outputs": [
    {
     "data": {
      "application/vnd.microsoft.datawrangler.viewer.v0+json": {
       "columns": [
        {
         "name": "index",
         "rawType": "int64",
         "type": "integer"
        },
        {
         "name": "Product_ID",
         "rawType": "int64",
         "type": "integer"
        },
        {
         "name": "Category",
         "rawType": "object",
         "type": "string"
        },
        {
         "name": "Price",
         "rawType": "float64",
         "type": "float"
        },
        {
         "name": "Date",
         "rawType": "object",
         "type": "string"
        },
        {
         "name": "Season",
         "rawType": "object",
         "type": "string"
        },
        {
         "name": "Market_Trend_Index",
         "rawType": "float64",
         "type": "float"
        },
        {
         "name": "Competitor_Activity_Score",
         "rawType": "float64",
         "type": "float"
        },
        {
         "name": "Consumer_Confidence_Index",
         "rawType": "float64",
         "type": "float"
        },
        {
         "name": "Product_Specification_1",
         "rawType": "object",
         "type": "string"
        },
        {
         "name": "Product_Specification_2",
         "rawType": "object",
         "type": "string"
        },
        {
         "name": "Sales_Volume",
         "rawType": "int64",
         "type": "integer"
        }
       ],
       "ref": "3b1bab0d-c931-471b-917a-1bfa5d137b0e",
       "rows": [
        [
         "0",
         "1103",
         "Laptop",
         "105.32",
         "2009-01-01",
         "Winter",
         "-1.8591603715865013",
         "0.5466941855372691",
         "84.68046469210279",
         "Spec_C",
         "Long-Battery-Life",
         "49"
        ],
        [
         "1",
         "1436",
         "Tablet",
         "145.55",
         "2009-01-01",
         "Winter",
         "-0.345587409251901",
         "0.940428249755382",
         "42.91928800089818",
         "Spec_C",
         "Lightweight",
         "69"
        ],
        [
         "2",
         "1271",
         "Smartphone",
         "97.82",
         "2009-01-01",
         "Winter",
         "-0.3847379505720294",
         "0.7511546086783049",
         "55.19126812112067",
         "Spec_B",
         "Lightweight",
         "50"
        ],
        [
         "3",
         "1107",
         "Laptop",
         "64.0",
         "2009-01-01",
         "Winter",
         "0.7167626535654861",
         "0.1259389877084422",
         "88.74645425786699",
         "Spec_B",
         "High-Resolution",
         "28"
        ],
        [
         "4",
         "1072",
         "Tablet",
         "67.83",
         "2009-01-01",
         "Winter",
         "-0.2420735501360276",
         "-0.4129319331840168",
         "67.94753625227112",
         "Spec_A",
         "Long-Battery-Life",
         "81"
        ],
        [
         "5",
         "1021",
         "Laptop",
         "107.02",
         "2009-01-01",
         "Winter",
         "-0.1915991735713434",
         "0.913436996600006",
         "84.20721526357097",
         "Spec_B",
         "Long-Battery-Life",
         "39"
        ],
        [
         "6",
         "1615",
         "Accessories",
         "107.01",
         "2009-01-01",
         "Winter",
         "0.5244243738299643",
         "-1.3578292303007884",
         "87.93505708653767",
         "Spec_B",
         "Lightweight",
         "53"
        ],
        [
         "7",
         "1122",
         "Smartphone",
         "148.93",
         "2009-01-01",
         "Winter",
         "0.8293647960200579",
         "-0.43732983435535",
         "84.58860217842391",
         "Spec_B",
         "Long-Battery-Life",
         "62"
        ],
        [
         "8",
         "1467",
         "Tablet",
         "157.84",
         "2009-01-01",
         "Winter",
         "0.7245155840349378",
         "-0.4820440371806417",
         "82.7508424183674",
         "Spec_A",
         "Long-Battery-Life",
         "81"
        ],
        [
         "9",
         "1215",
         "Laptop",
         "52.98",
         "2009-01-01",
         "Winter",
         "-1.1880532666905002",
         "-2.649907532947781",
         "76.22263106623086",
         "Spec_B",
         "High-Resolution",
         "42"
        ],
        [
         "10",
         "1331",
         "Tablet",
         "70.22",
         "2009-01-01",
         "Winter",
         "1.0449108433913057",
         "0.2705412462543649",
         "78.76103881601907",
         "Spec_C",
         "Lightweight",
         "65"
        ],
        [
         "11",
         "1459",
         "Laptop",
         "73.39",
         "2009-01-01",
         "Winter",
         "-0.0654077165292142",
         "-0.0356968257356472",
         "48.54360596517641",
         "Spec_C",
         "Long-Battery-Life",
         "58"
        ],
        [
         "12",
         "1088",
         "Laptop",
         "52.93",
         "2009-01-01",
         "Winter",
         "-1.5526066538466938",
         "-1.4337509854481552",
         "83.66575105353458",
         "Spec_A",
         "Long-Battery-Life",
         "58"
        ],
        [
         "13",
         "1373",
         "Smartphone",
         "126.98",
         "2009-01-01",
         "Winter",
         "0.6500388678060511",
         "-0.374543570828021",
         "74.81706734933303",
         "Spec_A",
         "Lightweight",
         "33"
        ],
        [
         "14",
         "1100",
         "Accessories",
         "126.48",
         "2009-01-01",
         "Winter",
         "-2.0209328245483364",
         "-1.4413303013072658",
         "49.96009137338164",
         "Spec_A",
         "High-Resolution",
         "89"
        ],
        [
         "15",
         "1664",
         "Accessories",
         "76.8",
         "2009-01-01",
         "Winter",
         "0.9922625069198168",
         "2.207960042412791",
         "63.8803493269411",
         "Spec_B",
         "High-Resolution",
         "89"
        ],
        [
         "16",
         "1131",
         "Tablet",
         "48.09",
         "2009-01-01",
         "Winter",
         "-1.488960036914518",
         "-0.8951304364752611",
         "54.67442923225381",
         "Spec_B",
         "High-Resolution",
         "27"
        ],
        [
         "17",
         "1662",
         "Laptop",
         "70.47",
         "2009-01-01",
         "Winter",
         "-0.2963058499111712",
         "1.2184843324612395",
         "50.13509582747916",
         "Spec_A",
         "Lightweight",
         "73"
        ],
        [
         "18",
         "1309",
         "Laptop",
         "118.81",
         "2009-01-01",
         "Winter",
         "2.242249489238308",
         "1.0786216215207427",
         "92.41743871992148",
         "Spec_B",
         "High-Resolution",
         "37"
        ],
        [
         "19",
         "1344",
         "Tablet",
         "77.9",
         "2009-01-01",
         "Winter",
         "-1.5097863406388956",
         "-0.9835212719745946",
         "79.54264770705319",
         "Spec_C",
         "Lightweight",
         "54"
        ],
        [
         "20",
         "1492",
         "Tablet",
         "162.24",
         "2009-01-01",
         "Winter",
         "-0.7732179207878702",
         "-0.4778419355709781",
         "90.51283766112051",
         "Spec_A",
         "Long-Battery-Life",
         "25"
        ],
        [
         "21",
         "1414",
         "Tablet",
         "124.14",
         "2009-01-01",
         "Winter",
         "0.3327880887611013",
         "-1.5992053490069171",
         "57.36937676950798",
         "Spec_A",
         "Lightweight",
         "87"
        ],
        [
         "22",
         "1386",
         "Tablet",
         "65.94",
         "2009-01-01",
         "Winter",
         "2.0405845621720946",
         "0.3594678205660502",
         "90.1192322464053",
         "Spec_C",
         "High-Resolution",
         "81"
        ],
        [
         "23",
         "1192",
         "Smartphone",
         "133.23",
         "2009-01-01",
         "Winter",
         "0.9804472738817772",
         "-0.5068422109946058",
         "94.62158029962492",
         "Spec_B",
         "Lightweight",
         "31"
        ],
        [
         "24",
         "1277",
         "Smartphone",
         "76.03",
         "2009-01-01",
         "Winter",
         "-0.251238001986102",
         "-1.9310308540543413",
         "83.91645053324245",
         "Spec_C",
         "Lightweight",
         "56"
        ],
        [
         "25",
         "1161",
         "Accessories",
         "48.56",
         "2009-01-01",
         "Winter",
         "-1.2842260228463471",
         "-0.1809844934904454",
         "78.68205880052018",
         "Spec_B",
         "Lightweight",
         "41"
        ],
        [
         "26",
         "1460",
         "Accessories",
         "45.57",
         "2009-01-01",
         "Winter",
         "0.2564314248006105",
         "-0.9959861048677846",
         "72.91524760159982",
         "Spec_B",
         "Lightweight",
         "45"
        ],
        [
         "27",
         "1314",
         "Smartphone",
         "156.32",
         "2009-01-01",
         "Winter",
         "2.054506576623601",
         "1.5584777544532664",
         "67.09794118007474",
         "Spec_C",
         "High-Resolution",
         "64"
        ],
        [
         "28",
         "1022",
         "Tablet",
         "118.19",
         "2009-01-01",
         "Winter",
         "-0.5410461713535721",
         "-1.1985366959046977",
         "49.3715899854962",
         "Spec_B",
         "Long-Battery-Life",
         "44"
        ],
        [
         "29",
         "1253",
         "Accessories",
         "63.51",
         "2009-01-01",
         "Winter",
         "-0.2222647570274843",
         "-1.5257763192420142",
         "44.53821128594251",
         "Spec_B",
         "Lightweight",
         "87"
        ],
        [
         "30",
         "1561",
         "Smartphone",
         "129.27",
         "2009-01-01",
         "Winter",
         "0.3077243490735004",
         "-0.6096695130783867",
         "56.8352388438824",
         "Spec_A",
         "High-Resolution",
         "84"
        ],
        [
         "31",
         "1475",
         "Laptop",
         "106.36",
         "2009-01-01",
         "Winter",
         "0.7122536581193596",
         "0.5982309948743372",
         "61.72580973577303",
         "Spec_A",
         "Long-Battery-Life",
         "29"
        ],
        [
         "32",
         "1059",
         "Smartphone",
         "126.99",
         "2009-01-01",
         "Winter",
         "-0.2907888497969748",
         "0.1327832253837945",
         "68.52183746672483",
         "Spec_A",
         "Lightweight",
         "44"
        ],
        [
         "33",
         "1511",
         "Laptop",
         "148.09",
         "2009-01-01",
         "Winter",
         "0.7813735633987844",
         "1.4641679704291684",
         "75.70569728589942",
         "Spec_C",
         "Long-Battery-Life",
         "38"
        ],
        [
         "34",
         "1682",
         "Accessories",
         "80.9",
         "2009-01-01",
         "Winter",
         "-0.3505719648941898",
         "0.2051208336234607",
         "69.07004474880063",
         "Spec_B",
         "Long-Battery-Life",
         "39"
        ],
        [
         "35",
         "1476",
         "Laptop",
         "61.11",
         "2009-01-01",
         "Winter",
         "0.0183039730117312",
         "-0.7978388068068576",
         "85.3449641188819",
         "Spec_B",
         "High-Resolution",
         "24"
        ],
        [
         "36",
         "1190",
         "Smartphone",
         "142.72",
         "2009-01-01",
         "Winter",
         "0.3694917410062596",
         "0.3732432000262567",
         "84.41867770313405",
         "Spec_B",
         "Long-Battery-Life",
         "29"
        ],
        [
         "37",
         "1687",
         "Laptop",
         "143.91",
         "2009-01-01",
         "Winter",
         "1.7699030526826711",
         "0.6500476800396214",
         "43.63362810680341",
         "Spec_C",
         "Lightweight",
         "94"
        ],
        [
         "38",
         "1563",
         "Laptop",
         "55.99",
         "2009-01-01",
         "Winter",
         "-1.3666332709685287",
         "0.9540093613202816",
         "92.33504451636269",
         "Spec_C",
         "Long-Battery-Life",
         "61"
        ],
        [
         "39",
         "1567",
         "Smartphone",
         "136.74",
         "2009-01-01",
         "Winter",
         "1.0716663594581284",
         "0.0897402049960506",
         "56.95055463039095",
         "Spec_A",
         "Lightweight",
         "88"
        ],
        [
         "40",
         "1244",
         "Accessories",
         "77.19",
         "2009-01-01",
         "Winter",
         "-0.6135030033742002",
         "-0.5160011814825162",
         "55.15134632832784",
         "Spec_A",
         "Long-Battery-Life",
         "63"
        ],
        [
         "41",
         "1505",
         "Accessories",
         "131.94",
         "2009-01-01",
         "Winter",
         "-0.0946583163781692",
         "0.699657865395957",
         "56.48662571217476",
         "Spec_C",
         "High-Resolution",
         "47"
        ],
        [
         "42",
         "1131",
         "Accessories",
         "48.09",
         "2009-01-01",
         "Winter",
         "-0.5846889220649314",
         "1.023585310953986",
         "85.34290214833773",
         "Spec_C",
         "High-Resolution",
         "27"
        ],
        [
         "43",
         "1485",
         "Laptop",
         "42.71",
         "2009-01-01",
         "Winter",
         "-0.8607621015582415",
         "-0.0031777417318246",
         "71.1539315158156",
         "Spec_A",
         "High-Resolution",
         "23"
        ],
        [
         "44",
         "1647",
         "Smartphone",
         "93.83",
         "2009-01-01",
         "Winter",
         "1.50596113277739",
         "0.3013295986334389",
         "63.77653217495975",
         "Spec_A",
         "Long-Battery-Life",
         "23"
        ],
        [
         "45",
         "1021",
         "Accessories",
         "107.02",
         "2009-01-01",
         "Winter",
         "0.5211468065893134",
         "-0.6601243837058556",
         "78.19813722693355",
         "Spec_B",
         "High-Resolution",
         "39"
        ],
        [
         "46",
         "1167",
         "Tablet",
         "64.87",
         "2009-01-01",
         "Winter",
         "-0.3208614553514315",
         "-0.3090517981774499",
         "61.10064098311887",
         "Spec_B",
         "High-Resolution",
         "82"
        ],
        [
         "47",
         "1274",
         "Tablet",
         "51.39",
         "2009-01-01",
         "Winter",
         "-1.032883695026665",
         "-0.5076598650882895",
         "97.69419483261098",
         "Spec_A",
         "Long-Battery-Life",
         "72"
        ],
        [
         "48",
         "1388",
         "Laptop",
         "63.05",
         "2009-01-01",
         "Winter",
         "-0.2672577067909536",
         "-0.4327750691663066",
         "81.13402273369263",
         "Spec_C",
         "Lightweight",
         "39"
        ],
        [
         "49",
         "1601",
         "Laptop",
         "47.01",
         "2009-01-01",
         "Winter",
         "1.6398296960615837",
         "0.5408562480605731",
         "69.3824295945382",
         "Spec_C",
         "Long-Battery-Life",
         "54"
        ]
       ],
       "shape": {
        "columns": 11,
        "rows": 136193
       }
      },
      "text/html": [
       "<div>\n",
       "<style scoped>\n",
       "    .dataframe tbody tr th:only-of-type {\n",
       "        vertical-align: middle;\n",
       "    }\n",
       "\n",
       "    .dataframe tbody tr th {\n",
       "        vertical-align: top;\n",
       "    }\n",
       "\n",
       "    .dataframe thead th {\n",
       "        text-align: right;\n",
       "    }\n",
       "</style>\n",
       "<table border=\"1\" class=\"dataframe\">\n",
       "  <thead>\n",
       "    <tr style=\"text-align: right;\">\n",
       "      <th></th>\n",
       "      <th>Product_ID</th>\n",
       "      <th>Category</th>\n",
       "      <th>Price</th>\n",
       "      <th>Date</th>\n",
       "      <th>Season</th>\n",
       "      <th>Market_Trend_Index</th>\n",
       "      <th>Competitor_Activity_Score</th>\n",
       "      <th>Consumer_Confidence_Index</th>\n",
       "      <th>Product_Specification_1</th>\n",
       "      <th>Product_Specification_2</th>\n",
       "      <th>Sales_Volume</th>\n",
       "    </tr>\n",
       "  </thead>\n",
       "  <tbody>\n",
       "    <tr>\n",
       "      <th>0</th>\n",
       "      <td>1103</td>\n",
       "      <td>Laptop</td>\n",
       "      <td>105.32</td>\n",
       "      <td>2009-01-01</td>\n",
       "      <td>Winter</td>\n",
       "      <td>-1.859160</td>\n",
       "      <td>0.546694</td>\n",
       "      <td>84.680465</td>\n",
       "      <td>Spec_C</td>\n",
       "      <td>Long-Battery-Life</td>\n",
       "      <td>49</td>\n",
       "    </tr>\n",
       "    <tr>\n",
       "      <th>1</th>\n",
       "      <td>1436</td>\n",
       "      <td>Tablet</td>\n",
       "      <td>145.55</td>\n",
       "      <td>2009-01-01</td>\n",
       "      <td>Winter</td>\n",
       "      <td>-0.345587</td>\n",
       "      <td>0.940428</td>\n",
       "      <td>42.919288</td>\n",
       "      <td>Spec_C</td>\n",
       "      <td>Lightweight</td>\n",
       "      <td>69</td>\n",
       "    </tr>\n",
       "    <tr>\n",
       "      <th>2</th>\n",
       "      <td>1271</td>\n",
       "      <td>Smartphone</td>\n",
       "      <td>97.82</td>\n",
       "      <td>2009-01-01</td>\n",
       "      <td>Winter</td>\n",
       "      <td>-0.384738</td>\n",
       "      <td>0.751155</td>\n",
       "      <td>55.191268</td>\n",
       "      <td>Spec_B</td>\n",
       "      <td>Lightweight</td>\n",
       "      <td>50</td>\n",
       "    </tr>\n",
       "    <tr>\n",
       "      <th>3</th>\n",
       "      <td>1107</td>\n",
       "      <td>Laptop</td>\n",
       "      <td>64.00</td>\n",
       "      <td>2009-01-01</td>\n",
       "      <td>Winter</td>\n",
       "      <td>0.716763</td>\n",
       "      <td>0.125939</td>\n",
       "      <td>88.746454</td>\n",
       "      <td>Spec_B</td>\n",
       "      <td>High-Resolution</td>\n",
       "      <td>28</td>\n",
       "    </tr>\n",
       "    <tr>\n",
       "      <th>4</th>\n",
       "      <td>1072</td>\n",
       "      <td>Tablet</td>\n",
       "      <td>67.83</td>\n",
       "      <td>2009-01-01</td>\n",
       "      <td>Winter</td>\n",
       "      <td>-0.242074</td>\n",
       "      <td>-0.412932</td>\n",
       "      <td>67.947536</td>\n",
       "      <td>Spec_A</td>\n",
       "      <td>Long-Battery-Life</td>\n",
       "      <td>81</td>\n",
       "    </tr>\n",
       "    <tr>\n",
       "      <th>...</th>\n",
       "      <td>...</td>\n",
       "      <td>...</td>\n",
       "      <td>...</td>\n",
       "      <td>...</td>\n",
       "      <td>...</td>\n",
       "      <td>...</td>\n",
       "      <td>...</td>\n",
       "      <td>...</td>\n",
       "      <td>...</td>\n",
       "      <td>...</td>\n",
       "      <td>...</td>\n",
       "    </tr>\n",
       "    <tr>\n",
       "      <th>136188</th>\n",
       "      <td>1361</td>\n",
       "      <td>Tablet</td>\n",
       "      <td>97.73</td>\n",
       "      <td>2020-12-29</td>\n",
       "      <td>Winter</td>\n",
       "      <td>0.953956</td>\n",
       "      <td>-0.555596</td>\n",
       "      <td>69.407099</td>\n",
       "      <td>Spec_C</td>\n",
       "      <td>High-Resolution</td>\n",
       "      <td>162</td>\n",
       "    </tr>\n",
       "    <tr>\n",
       "      <th>136189</th>\n",
       "      <td>1147</td>\n",
       "      <td>Tablet</td>\n",
       "      <td>173.21</td>\n",
       "      <td>2020-12-29</td>\n",
       "      <td>Winter</td>\n",
       "      <td>-0.781121</td>\n",
       "      <td>0.323828</td>\n",
       "      <td>90.737931</td>\n",
       "      <td>Spec_B</td>\n",
       "      <td>Long-Battery-Life</td>\n",
       "      <td>161</td>\n",
       "    </tr>\n",
       "    <tr>\n",
       "      <th>136190</th>\n",
       "      <td>1405</td>\n",
       "      <td>Accessories</td>\n",
       "      <td>154.62</td>\n",
       "      <td>2020-12-30</td>\n",
       "      <td>Winter</td>\n",
       "      <td>-0.210343</td>\n",
       "      <td>-1.055552</td>\n",
       "      <td>53.747320</td>\n",
       "      <td>Spec_A</td>\n",
       "      <td>Long-Battery-Life</td>\n",
       "      <td>182</td>\n",
       "    </tr>\n",
       "    <tr>\n",
       "      <th>136191</th>\n",
       "      <td>1329</td>\n",
       "      <td>Smartphone</td>\n",
       "      <td>152.00</td>\n",
       "      <td>2020-12-30</td>\n",
       "      <td>Winter</td>\n",
       "      <td>-0.492417</td>\n",
       "      <td>-1.064359</td>\n",
       "      <td>88.582224</td>\n",
       "      <td>Spec_A</td>\n",
       "      <td>Long-Battery-Life</td>\n",
       "      <td>287</td>\n",
       "    </tr>\n",
       "    <tr>\n",
       "      <th>136192</th>\n",
       "      <td>1651</td>\n",
       "      <td>Accessories</td>\n",
       "      <td>154.60</td>\n",
       "      <td>2020-12-30</td>\n",
       "      <td>Winter</td>\n",
       "      <td>0.338464</td>\n",
       "      <td>1.684223</td>\n",
       "      <td>51.546006</td>\n",
       "      <td>Spec_A</td>\n",
       "      <td>High-Resolution</td>\n",
       "      <td>239</td>\n",
       "    </tr>\n",
       "  </tbody>\n",
       "</table>\n",
       "<p>136193 rows × 11 columns</p>\n",
       "</div>"
      ],
      "text/plain": [
       "        Product_ID     Category   Price        Date  Season  \\\n",
       "0             1103       Laptop  105.32  2009-01-01  Winter   \n",
       "1             1436       Tablet  145.55  2009-01-01  Winter   \n",
       "2             1271   Smartphone   97.82  2009-01-01  Winter   \n",
       "3             1107       Laptop   64.00  2009-01-01  Winter   \n",
       "4             1072       Tablet   67.83  2009-01-01  Winter   \n",
       "...            ...          ...     ...         ...     ...   \n",
       "136188        1361       Tablet   97.73  2020-12-29  Winter   \n",
       "136189        1147       Tablet  173.21  2020-12-29  Winter   \n",
       "136190        1405  Accessories  154.62  2020-12-30  Winter   \n",
       "136191        1329   Smartphone  152.00  2020-12-30  Winter   \n",
       "136192        1651  Accessories  154.60  2020-12-30  Winter   \n",
       "\n",
       "        Market_Trend_Index  Competitor_Activity_Score  \\\n",
       "0                -1.859160                   0.546694   \n",
       "1                -0.345587                   0.940428   \n",
       "2                -0.384738                   0.751155   \n",
       "3                 0.716763                   0.125939   \n",
       "4                -0.242074                  -0.412932   \n",
       "...                    ...                        ...   \n",
       "136188            0.953956                  -0.555596   \n",
       "136189           -0.781121                   0.323828   \n",
       "136190           -0.210343                  -1.055552   \n",
       "136191           -0.492417                  -1.064359   \n",
       "136192            0.338464                   1.684223   \n",
       "\n",
       "        Consumer_Confidence_Index Product_Specification_1  \\\n",
       "0                       84.680465                  Spec_C   \n",
       "1                       42.919288                  Spec_C   \n",
       "2                       55.191268                  Spec_B   \n",
       "3                       88.746454                  Spec_B   \n",
       "4                       67.947536                  Spec_A   \n",
       "...                           ...                     ...   \n",
       "136188                  69.407099                  Spec_C   \n",
       "136189                  90.737931                  Spec_B   \n",
       "136190                  53.747320                  Spec_A   \n",
       "136191                  88.582224                  Spec_A   \n",
       "136192                  51.546006                  Spec_A   \n",
       "\n",
       "       Product_Specification_2  Sales_Volume  \n",
       "0            Long-Battery-Life            49  \n",
       "1                  Lightweight            69  \n",
       "2                  Lightweight            50  \n",
       "3              High-Resolution            28  \n",
       "4            Long-Battery-Life            81  \n",
       "...                        ...           ...  \n",
       "136188         High-Resolution           162  \n",
       "136189       Long-Battery-Life           161  \n",
       "136190       Long-Battery-Life           182  \n",
       "136191       Long-Battery-Life           287  \n",
       "136192         High-Resolution           239  \n",
       "\n",
       "[136193 rows x 11 columns]"
      ]
     },
     "execution_count": 3,
     "metadata": {},
     "output_type": "execute_result"
    }
   ],
   "source": [
    "df "
   ]
  },
  {
   "cell_type": "code",
   "execution_count": 4,
   "id": "66f5731b",
   "metadata": {},
   "outputs": [
    {
     "data": {
      "application/vnd.microsoft.datawrangler.viewer.v0+json": {
       "columns": [
        {
         "name": "Category",
         "rawType": "object",
         "type": "string"
        },
        {
         "name": "count",
         "rawType": "int64",
         "type": "integer"
        }
       ],
       "ref": "3d1554a0-2573-4bda-8b7b-2629f9792394",
       "rows": [
        [
         "Tablet",
         "34370"
        ],
        [
         "Accessories",
         "34041"
        ],
        [
         "Smartphone",
         "33980"
        ],
        [
         "Laptop",
         "33802"
        ]
       ],
       "shape": {
        "columns": 1,
        "rows": 4
       }
      },
      "text/plain": [
       "Category\n",
       "Tablet         34370\n",
       "Accessories    34041\n",
       "Smartphone     33980\n",
       "Laptop         33802\n",
       "Name: count, dtype: int64"
      ]
     },
     "execution_count": 4,
     "metadata": {},
     "output_type": "execute_result"
    }
   ],
   "source": [
    "df['Category'].value_counts()"
   ]
  },
  {
   "cell_type": "markdown",
   "id": "c413a2e4",
   "metadata": {},
   "source": [
    "A quick overview of what each column represents to note from this: \n",
    "- **Product_ID**: This ID distinguish products from each others. It contains integer values\n",
    "- **Category**: This is the product category, there are laptop, tablet, smartphone and accessories \n",
    "- **Price**: This is the price of the product in US dollars\n",
    "- **Date**: The date of the sale of the product\n",
    "- **Season**: The season of the year the product was sold \n",
    "- **Market_Trend_Index**: Represents external factors affecting the electronic industry\n",
    "- **Competitor_Acivity_Score**: Measures the influence of the company's competitors in the market\n",
    "- **Consumer_Confidence_Index**: Measures consumer confidence at that particular date\n",
    "- **Product_Specifications**: Specific information on the products themselves"
   ]
  },
  {
   "cell_type": "markdown",
   "id": "8dd1db99",
   "metadata": {},
   "source": [
    "### Data Preparation\n",
    "\n",
    "- Check for missing values\n",
    "- Check for duplicate\n",
    "- Deal with datatypes \n",
    "- Check data distribution to account for outliers and deal with these outliers "
   ]
  },
  {
   "cell_type": "code",
   "execution_count": 5,
   "id": "7bec18c6",
   "metadata": {},
   "outputs": [
    {
     "name": "stdout",
     "output_type": "stream",
     "text": [
      "Product_ID                   0\n",
      "Category                     0\n",
      "Price                        0\n",
      "Date                         0\n",
      "Season                       0\n",
      "Market_Trend_Index           0\n",
      "Competitor_Activity_Score    0\n",
      "Consumer_Confidence_Index    0\n",
      "Product_Specification_1      0\n",
      "Product_Specification_2      0\n",
      "Sales_Volume                 0\n",
      "dtype: int64\n",
      "\n",
      "0\n",
      "\n",
      "Product_ID                     int64\n",
      "Category                      object\n",
      "Price                        float64\n",
      "Date                          object\n",
      "Season                        object\n",
      "Market_Trend_Index           float64\n",
      "Competitor_Activity_Score    float64\n",
      "Consumer_Confidence_Index    float64\n",
      "Product_Specification_1       object\n",
      "Product_Specification_2       object\n",
      "Sales_Volume                   int64\n",
      "dtype: object\n",
      "\n"
     ]
    }
   ],
   "source": [
    "print(f\"{df.isnull().sum()}\\n\")\n",
    "print(f\"{df.duplicated().sum()}\\n\")\n",
    "print(f\"{df.dtypes}\\n\")"
   ]
  },
  {
   "cell_type": "code",
   "execution_count": 6,
   "id": "6c5f2fd1",
   "metadata": {},
   "outputs": [
    {
     "data": {
      "text/plain": [
       "dtype('<M8[ns]')"
      ]
     },
     "execution_count": 6,
     "metadata": {},
     "output_type": "execute_result"
    }
   ],
   "source": [
    "df['Date'] = df['Date'].astype('datetime64[ns]')\n",
    "df['Date'].dtype"
   ]
  },
  {
   "cell_type": "code",
   "execution_count": 7,
   "id": "79d50d90",
   "metadata": {},
   "outputs": [
    {
     "data": {
      "image/png": "[encoded data removed]",
      "text/plain": [
       "<Figure size 640x480 with 1 Axes>"
      ]
     },
     "metadata": {},
     "output_type": "display_data"
    },
    {
     "data": {
      "image/png": "[encoded data removed]",
      "text/plain": [
       "<Figure size 640x480 with 1 Axes>"
      ]
     },
     "metadata": {},
     "output_type": "display_data"
    },
    {
     "data": {
      "image/png": "[encoded data removed]",
      "text/plain": [
       "<Figure size 640x480 with 1 Axes>"
      ]
     },
     "metadata": {},
     "output_type": "display_data"
    },
    {
     "data": {
      "image/png": "[encoded data removed]",
      "text/plain": [
       "<Figure size 640x480 with 1 Axes>"
      ]
     },
     "metadata": {},
     "output_type": "display_data"
    },
    {
     "data": {
      "image/png": "[encoded data removed]",
      "text/plain": [
       "<Figure size 640x480 with 1 Axes>"
      ]
     },
     "metadata": {},
     "output_type": "display_data"
    }
   ],
   "source": [
    "outlier_columns = df.select_dtypes(exclude=['object', 'datetime']).iloc[0:, 1:].columns.to_list()\n",
    "\n",
    "for columns in outlier_columns: \n",
    "    plt.boxplot(df[columns])\n",
    "    plt.title(columns)\n",
    "    plt.show()"
   ]
  },
  {
   "cell_type": "code",
   "execution_count": 10,
   "id": "556d9b96",
   "metadata": {},
   "outputs": [],
   "source": [
    "outlier_columns = df.select_dtypes(exclude=['object', 'datetime']).iloc[0:, 1:].columns.to_list()\n",
    "\n",
    "for columns in outlier_columns: \n",
    "    q1 = df[columns].quantile(0.25)\n",
    "    q3 = df[columns].quantile(0.75)\n",
    "    iqr = q3 - q1\n",
    "    lower_bound = q1 - 1.5 * iqr\n",
    "    upper_bound = q3 + 1.5 * iqr\n",
    "    df[columns]=np.where(df[columns]< lower_bound, lower_bound, df[columns])\n",
    "    df[columns]=np.where(df[columns]> upper_bound, upper_bound, df[columns])"
   ]
  },
  {
   "cell_type": "markdown",
   "id": "850f0d50",
   "metadata": {},
   "source": [
    "### Save Preprocessed Data For Proper Exploratory Data Analysis"
   ]
  },
  {
   "cell_type": "code",
   "execution_count": null,
   "id": "7238d8ed",
   "metadata": {},
   "outputs": [],
   "source": []
  }
 ],
 "metadata": {
  "kernelspec": {
   "display_name": "bevisvenv",
   "language": "python",
   "name": "python3"
  },
  "language_info": {
   "codemirror_mode": {
    "name": "ipython",
    "version": 3
   },
   "file_extension": ".py",
   "mimetype": "text/x-python",
   "name": "python",
   "nbconvert_exporter": "python",
   "pygments_lexer": "ipython3",
   "version": "3.10.18"
  }
 },
 "nbformat": 4,
 "nbformat_minor": 5
}
