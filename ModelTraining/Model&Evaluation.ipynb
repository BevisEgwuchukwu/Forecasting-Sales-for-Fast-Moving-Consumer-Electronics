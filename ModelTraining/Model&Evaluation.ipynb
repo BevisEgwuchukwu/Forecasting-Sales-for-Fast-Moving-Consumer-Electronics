{
 "cells": [
  {
   "cell_type": "code",
   "execution_count": 1,
   "id": "c9d272ec",
   "metadata": {},
   "outputs": [],
   "source": [
    "import numpy as np\n",
    "import pandas as pd\n",
    "import seaborn as sns\n",
    "import matplotlib.pyplot as plt\n",
    "from statsmodels.tsa.arima.model import ARIMA\n",
    "from statsmodels.tsa.statespace.sarimax import SARIMAX\n",
    "import xgboost as xgb\n",
    "from sklearn.model_selection import train_test_split \n",
    "from sklearn.metrics import mean_squared_error, accuracy_score\n",
    "from sklearn.preprocessing import StandardScaler, MinMaxScaler\n",
    "from statsmodels.tsa.seasonal import seasonal_decompose"
   ]
  },
  {
   "cell_type": "code",
   "execution_count": 2,
   "id": "e05d9767",
   "metadata": {},
   "outputs": [],
   "source": [
    "df_laptop = pd.read_csv(\"../EDA/laptop_data.csv\")\n",
    "df_tablet = pd.read_csv(\"../EDA/tablet_data.csv\")\n",
    "df_smartphone = pd.read_csv(\"../EDA/smartphone_data.csv\")\n",
    "df_accessory = pd.read_csv(\"../EDA/accessory_data.csv\")"
   ]
  },
  {
   "cell_type": "code",
   "execution_count": 4,
   "id": "0d44dbf8",
   "metadata": {},
   "outputs": [
    {
     "data": {
      "application/vnd.microsoft.datawrangler.viewer.v0+json": {
       "columns": [
        {
         "name": "index",
         "rawType": "int64",
         "type": "integer"
        },
        {
         "name": "Category",
         "rawType": "object",
         "type": "string"
        },
        {
         "name": "Date",
         "rawType": "object",
         "type": "string"
        },
        {
         "name": "Sales_Volume",
         "rawType": "float64",
         "type": "float"
        },
        {
         "name": "Price",
         "rawType": "float64",
         "type": "float"
        },
        {
         "name": "Market_Trend_Index",
         "rawType": "float64",
         "type": "float"
        },
        {
         "name": "Competitor_Activity_Score",
         "rawType": "float64",
         "type": "float"
        },
        {
         "name": "Consumer_Confidence_Index",
         "rawType": "float64",
         "type": "float"
        }
       ],
       "ref": "6177c554-938e-43b1-b9c9-92a21a35f738",
       "rows": [
        [
         "0",
         "Laptop",
         "2009-01-01",
         "46.47058823529412",
         "85.37764705882353",
         "0.080247906981165",
         "0.2182775156853001",
         "73.92840269025452"
        ],
        [
         "1",
         "Laptop",
         "2009-01-02",
         "52.5",
         "50.9575",
         "1.0631331810727536",
         "0.0949533136830899",
         "72.05235898227134"
        ],
        [
         "2",
         "Laptop",
         "2009-01-03",
         "31.0",
         "165.76",
         "-0.4082463163044042",
         "1.4899193982681107",
         "48.70578072815864"
        ],
        [
         "3",
         "Laptop",
         "2009-01-04",
         "77.5",
         "56.3425",
         "-0.1277330567903481",
         "-0.4621455232673052",
         "68.2435035920465"
        ],
        [
         "4",
         "Laptop",
         "2009-01-05",
         "65.875",
         "103.065",
         "0.6493020834019986",
         "0.0663412788840496",
         "69.8955588949636"
        ],
        [
         "5",
         "Laptop",
         "2009-01-06",
         "63.5",
         "94.65833333333336",
         "-0.1764747838351514",
         "-0.3326438970839184",
         "63.11428671188639"
        ],
        [
         "6",
         "Laptop",
         "2009-01-07",
         "47.4",
         "109.33",
         "0.1589957227542895",
         "-0.6053950613548545",
         "70.25370912477163"
        ],
        [
         "7",
         "Laptop",
         "2009-01-08",
         "45.5",
         "88.235",
         "0.398182875262993",
         "0.4950102623232759",
         "64.43361507585722"
        ],
        [
         "8",
         "Laptop",
         "2009-01-09",
         "46.25",
         "112.405",
         "-0.1463643706945168",
         "0.28182550435822",
         "69.12898435803633"
        ],
        [
         "9",
         "Laptop",
         "2009-01-10",
         "41.5",
         "100.115",
         "0.3190046272885709",
         "-0.9137713712304466",
         "71.99886077425654"
        ],
        [
         "10",
         "Laptop",
         "2009-01-11",
         "46.76923076923077",
         "97.79230769230767",
         "-0.2481963961102266",
         "0.0684411091055048",
         "74.92722173066635"
        ],
        [
         "11",
         "Laptop",
         "2009-01-12",
         "50.3",
         "85.595",
         "0.2279687388201195",
         "0.5230987618736985",
         "74.30257407507023"
        ],
        [
         "12",
         "Laptop",
         "2009-01-13",
         "40.57142857142857",
         "83.4042857142857",
         "0.0304967593496615",
         "0.5089115233111092",
         "78.04031660802033"
        ],
        [
         "13",
         "Laptop",
         "2009-01-14",
         "73.5",
         "91.87",
         "-0.1300916867502493",
         "0.4533416135234559",
         "78.16275658703073"
        ],
        [
         "14",
         "Laptop",
         "2009-01-15",
         "38.25",
         "116.8025",
         "-0.6595845563174212",
         "0.0880632925350542",
         "58.09041927851421"
        ],
        [
         "15",
         "Laptop",
         "2009-01-16",
         "54.5",
         "95.91375",
         "0.2895462296406866",
         "-0.141529208855255",
         "74.07420256596842"
        ],
        [
         "16",
         "Laptop",
         "2009-01-17",
         "52.5",
         "115.8525",
         "0.1893888808007959",
         "-0.2655831444500295",
         "63.6178233432529"
        ],
        [
         "17",
         "Laptop",
         "2009-01-18",
         "58.833333333333336",
         "85.80916666666667",
         "0.1678714828384106",
         "0.144394661820366",
         "65.00076815004215"
        ],
        [
         "18",
         "Laptop",
         "2009-01-19",
         "57.125",
         "114.7725",
         "-0.2584267026707638",
         "-0.1971667982254892",
         "67.67067154774874"
        ],
        [
         "19",
         "Laptop",
         "2009-01-20",
         "64.33333333333333",
         "84.82666666666667",
         "0.3013804204140886",
         "-0.3212532243026124",
         "79.69085201707635"
        ],
        [
         "20",
         "Laptop",
         "2009-01-21",
         "53.57142857142857",
         "92.80285714285716",
         "0.0022714246919164",
         "0.2877272906175218",
         "63.34064107366568"
        ],
        [
         "21",
         "Laptop",
         "2009-01-22",
         "73.5",
         "123.3575",
         "-0.0026433108520472",
         "0.5316997045905467",
         "77.80138501733273"
        ],
        [
         "22",
         "Laptop",
         "2009-01-23",
         "38.21428571428572",
         "106.665",
         "0.3278404896582376",
         "0.1181006831959751",
         "65.03172038615595"
        ],
        [
         "23",
         "Laptop",
         "2009-01-24",
         "58.888888888888886",
         "103.38111111111112",
         "-0.5752402131366066",
         "-0.6293080694579606",
         "63.30821286912816"
        ],
        [
         "24",
         "Laptop",
         "2009-01-25",
         "41.625",
         "85.23375",
         "0.2200505869059821",
         "-0.63162145254281",
         "69.09197605405818"
        ],
        [
         "25",
         "Laptop",
         "2009-01-26",
         "50.375",
         "116.43375",
         "0.0503236845240714",
         "0.3056733601432203",
         "71.78192795509584"
        ],
        [
         "26",
         "Laptop",
         "2009-01-27",
         "57.77777777777778",
         "100.02111111111113",
         "-0.1844386204885266",
         "-0.6633810208261157",
         "66.31051695407295"
        ],
        [
         "27",
         "Laptop",
         "2009-01-28",
         "59.4",
         "84.334",
         "-0.4451872112524059",
         "0.0803303453621668",
         "73.24085073019594"
        ],
        [
         "28",
         "Laptop",
         "2009-01-29",
         "79.0",
         "93.455",
         "0.2383174284930967",
         "-0.397981785405922",
         "70.14644880600537"
        ],
        [
         "29",
         "Laptop",
         "2009-01-30",
         "46.5",
         "118.165",
         "0.0643856005088491",
         "0.3447546365475819",
         "64.42272548360843"
        ],
        [
         "30",
         "Laptop",
         "2009-01-31",
         "58.9",
         "94.316",
         "0.1021908235392908",
         "-0.4158418694207076",
         "78.13455393795064"
        ],
        [
         "31",
         "Laptop",
         "2009-02-01",
         "94.4",
         "119.282",
         "-0.1012615228123208",
         "0.2657524915324349",
         "75.18187324073904"
        ],
        [
         "32",
         "Laptop",
         "2009-02-02",
         "73.2",
         "93.157",
         "0.0069153045381179",
         "-0.4817223078808669",
         "66.24446012772212"
        ],
        [
         "33",
         "Laptop",
         "2009-02-03",
         "60.5",
         "122.4925",
         "0.2942077009844089",
         "0.1079960542300999",
         "62.08985527885493"
        ],
        [
         "34",
         "Laptop",
         "2009-02-04",
         "68.25",
         "125.61",
         "0.1572971672888869",
         "-0.1004000786309124",
         "79.756955631859"
        ],
        [
         "35",
         "Laptop",
         "2009-02-05",
         "76.5",
         "116.95166666666668",
         "-0.3884396358887871",
         "-0.5319811621032016",
         "61.157186404296965"
        ],
        [
         "36",
         "Laptop",
         "2009-02-06",
         "68.33333333333333",
         "96.19833333333334",
         "0.1935633055235412",
         "-0.2538560666438147",
         "71.80577624918205"
        ],
        [
         "37",
         "Laptop",
         "2009-02-07",
         "57.333333333333336",
         "94.28666666666668",
         "0.0858563322835425",
         "0.1015022481449901",
         "53.15427541717708"
        ],
        [
         "38",
         "Laptop",
         "2009-02-08",
         "75.6875",
         "112.97875",
         "-0.3194857541209536",
         "0.1501890694001684",
         "74.93314934359397"
        ],
        [
         "39",
         "Laptop",
         "2009-02-09",
         "63.6",
         "63.02",
         "0.1529569532550604",
         "-0.0911035681099703",
         "71.2454427429665"
        ],
        [
         "40",
         "Laptop",
         "2009-02-10",
         "49.3",
         "93.371",
         "0.0959811583145346",
         "-0.4501618949673015",
         "59.80807650951682"
        ],
        [
         "41",
         "Laptop",
         "2009-02-11",
         "66.3",
         "102.34",
         "0.5354156233102851",
         "-0.6295737693323746",
         "72.17939229854322"
        ],
        [
         "42",
         "Laptop",
         "2009-02-12",
         "68.16666666666667",
         "96.22166666666664",
         "0.0060460879766653",
         "-0.0819477369788763",
         "60.43688998476546"
        ],
        [
         "43",
         "Laptop",
         "2009-02-13",
         "71.72727272727273",
         "101.31090909090908",
         "0.222393473382553",
         "0.7341368427305511",
         "66.11561174919925"
        ],
        [
         "44",
         "Laptop",
         "2009-02-14",
         "42.0",
         "90.47666666666667",
         "0.83931783209032",
         "0.4894645431672653",
         "69.49830176583377"
        ],
        [
         "45",
         "Laptop",
         "2009-02-15",
         "73.22222222222223",
         "104.88444444444444",
         "0.1784410755416643",
         "0.038189848351372",
         "81.38987314885824"
        ],
        [
         "46",
         "Laptop",
         "2009-02-16",
         "64.0625",
         "97.79125",
         "0.1493963831513621",
         "-0.4109044822039339",
         "77.34275797787973"
        ],
        [
         "47",
         "Laptop",
         "2009-02-17",
         "56.6",
         "98.454",
         "-0.2946682887776325",
         "0.461879574909089",
         "70.25769823464148"
        ],
        [
         "48",
         "Laptop",
         "2009-02-18",
         "65.5",
         "104.285",
         "0.0200000738410461",
         "0.3803175175682475",
         "69.11430136735517"
        ],
        [
         "49",
         "Laptop",
         "2009-02-19",
         "32.5",
         "128.76",
         "0.0527700179786341",
         "-0.48096252850764",
         "55.12134765673604"
        ]
       ],
       "shape": {
        "columns": 7,
        "rows": 4363
       }
      },
      "text/html": [
       "<div>\n",
       "<style scoped>\n",
       "    .dataframe tbody tr th:only-of-type {\n",
       "        vertical-align: middle;\n",
       "    }\n",
       "\n",
       "    .dataframe tbody tr th {\n",
       "        vertical-align: top;\n",
       "    }\n",
       "\n",
       "    .dataframe thead th {\n",
       "        text-align: right;\n",
       "    }\n",
       "</style>\n",
       "<table border=\"1\" class=\"dataframe\">\n",
       "  <thead>\n",
       "    <tr style=\"text-align: right;\">\n",
       "      <th></th>\n",
       "      <th>Category</th>\n",
       "      <th>Date</th>\n",
       "      <th>Sales_Volume</th>\n",
       "      <th>Price</th>\n",
       "      <th>Market_Trend_Index</th>\n",
       "      <th>Competitor_Activity_Score</th>\n",
       "      <th>Consumer_Confidence_Index</th>\n",
       "    </tr>\n",
       "  </thead>\n",
       "  <tbody>\n",
       "    <tr>\n",
       "      <th>0</th>\n",
       "      <td>Laptop</td>\n",
       "      <td>2009-01-01</td>\n",
       "      <td>46.470588</td>\n",
       "      <td>85.377647</td>\n",
       "      <td>0.080248</td>\n",
       "      <td>0.218278</td>\n",
       "      <td>73.928403</td>\n",
       "    </tr>\n",
       "    <tr>\n",
       "      <th>1</th>\n",
       "      <td>Laptop</td>\n",
       "      <td>2009-01-02</td>\n",
       "      <td>52.500000</td>\n",
       "      <td>50.957500</td>\n",
       "      <td>1.063133</td>\n",
       "      <td>0.094953</td>\n",
       "      <td>72.052359</td>\n",
       "    </tr>\n",
       "    <tr>\n",
       "      <th>2</th>\n",
       "      <td>Laptop</td>\n",
       "      <td>2009-01-03</td>\n",
       "      <td>31.000000</td>\n",
       "      <td>165.760000</td>\n",
       "      <td>-0.408246</td>\n",
       "      <td>1.489919</td>\n",
       "      <td>48.705781</td>\n",
       "    </tr>\n",
       "    <tr>\n",
       "      <th>3</th>\n",
       "      <td>Laptop</td>\n",
       "      <td>2009-01-04</td>\n",
       "      <td>77.500000</td>\n",
       "      <td>56.342500</td>\n",
       "      <td>-0.127733</td>\n",
       "      <td>-0.462146</td>\n",
       "      <td>68.243504</td>\n",
       "    </tr>\n",
       "    <tr>\n",
       "      <th>4</th>\n",
       "      <td>Laptop</td>\n",
       "      <td>2009-01-05</td>\n",
       "      <td>65.875000</td>\n",
       "      <td>103.065000</td>\n",
       "      <td>0.649302</td>\n",
       "      <td>0.066341</td>\n",
       "      <td>69.895559</td>\n",
       "    </tr>\n",
       "    <tr>\n",
       "      <th>...</th>\n",
       "      <td>...</td>\n",
       "      <td>...</td>\n",
       "      <td>...</td>\n",
       "      <td>...</td>\n",
       "      <td>...</td>\n",
       "      <td>...</td>\n",
       "      <td>...</td>\n",
       "    </tr>\n",
       "    <tr>\n",
       "      <th>4358</th>\n",
       "      <td>Laptop</td>\n",
       "      <td>2020-12-25</td>\n",
       "      <td>177.000000</td>\n",
       "      <td>107.065000</td>\n",
       "      <td>-0.435945</td>\n",
       "      <td>-0.745994</td>\n",
       "      <td>51.586337</td>\n",
       "    </tr>\n",
       "    <tr>\n",
       "      <th>4359</th>\n",
       "      <td>Laptop</td>\n",
       "      <td>2020-12-26</td>\n",
       "      <td>210.600000</td>\n",
       "      <td>139.109000</td>\n",
       "      <td>-0.521547</td>\n",
       "      <td>-0.005733</td>\n",
       "      <td>63.129587</td>\n",
       "    </tr>\n",
       "    <tr>\n",
       "      <th>4360</th>\n",
       "      <td>Laptop</td>\n",
       "      <td>2020-12-27</td>\n",
       "      <td>172.000000</td>\n",
       "      <td>122.346667</td>\n",
       "      <td>-0.185838</td>\n",
       "      <td>-0.966691</td>\n",
       "      <td>72.936456</td>\n",
       "    </tr>\n",
       "    <tr>\n",
       "      <th>4361</th>\n",
       "      <td>Laptop</td>\n",
       "      <td>2020-12-28</td>\n",
       "      <td>163.000000</td>\n",
       "      <td>116.900000</td>\n",
       "      <td>0.960097</td>\n",
       "      <td>-0.347966</td>\n",
       "      <td>74.511546</td>\n",
       "    </tr>\n",
       "    <tr>\n",
       "      <th>4362</th>\n",
       "      <td>Laptop</td>\n",
       "      <td>2020-12-29</td>\n",
       "      <td>182.000000</td>\n",
       "      <td>114.033750</td>\n",
       "      <td>-0.238520</td>\n",
       "      <td>0.017626</td>\n",
       "      <td>78.646643</td>\n",
       "    </tr>\n",
       "  </tbody>\n",
       "</table>\n",
       "<p>4363 rows × 7 columns</p>\n",
       "</div>"
      ],
      "text/plain": [
       "     Category        Date  Sales_Volume       Price  Market_Trend_Index  \\\n",
       "0      Laptop  2009-01-01     46.470588   85.377647            0.080248   \n",
       "1      Laptop  2009-01-02     52.500000   50.957500            1.063133   \n",
       "2      Laptop  2009-01-03     31.000000  165.760000           -0.408246   \n",
       "3      Laptop  2009-01-04     77.500000   56.342500           -0.127733   \n",
       "4      Laptop  2009-01-05     65.875000  103.065000            0.649302   \n",
       "...       ...         ...           ...         ...                 ...   \n",
       "4358   Laptop  2020-12-25    177.000000  107.065000           -0.435945   \n",
       "4359   Laptop  2020-12-26    210.600000  139.109000           -0.521547   \n",
       "4360   Laptop  2020-12-27    172.000000  122.346667           -0.185838   \n",
       "4361   Laptop  2020-12-28    163.000000  116.900000            0.960097   \n",
       "4362   Laptop  2020-12-29    182.000000  114.033750           -0.238520   \n",
       "\n",
       "      Competitor_Activity_Score  Consumer_Confidence_Index  \n",
       "0                      0.218278                  73.928403  \n",
       "1                      0.094953                  72.052359  \n",
       "2                      1.489919                  48.705781  \n",
       "3                     -0.462146                  68.243504  \n",
       "4                      0.066341                  69.895559  \n",
       "...                         ...                        ...  \n",
       "4358                  -0.745994                  51.586337  \n",
       "4359                  -0.005733                  63.129587  \n",
       "4360                  -0.966691                  72.936456  \n",
       "4361                  -0.347966                  74.511546  \n",
       "4362                   0.017626                  78.646643  \n",
       "\n",
       "[4363 rows x 7 columns]"
      ]
     },
     "execution_count": 4,
     "metadata": {},
     "output_type": "execute_result"
    }
   ],
   "source": [
    "df_laptop"
   ]
  },
  {
   "cell_type": "code",
   "execution_count": 6,
   "id": "2a94d6e3",
   "metadata": {},
   "outputs": [],
   "source": [
    "# Drop unnecessary columns for time series analysis\n",
    "ts_laptop = df_laptop.drop(columns=['Category', 'Price','Market_Trend_Index', \n",
    "       'Competitor_Activity_Score', 'Consumer_Confidence_Index'])\n",
    "ts_laptop['Date'] = pd.to_datetime(ts_laptop['Date'])\n",
    "\n",
    "ts_smartphone = df_smartphone.drop(columns=['Category', 'Price','Market_Trend_Index',\n",
    "       'Competitor_Activity_Score', 'Consumer_Confidence_Index'])\n",
    "ts_smartphone['Date'] = pd.to_datetime(ts_laptop['Date'])\n",
    "\n",
    "ts_tablet = df_tablet.drop(columns=['Category', 'Price','Market_Trend_Index',\n",
    "       'Competitor_Activity_Score', 'Consumer_Confidence_Index'])\n",
    "ts_tablet['Date'] = pd.to_datetime(ts_laptop['Date'])\n",
    "\n",
    "ts_accessory = df_accessory.drop(columns=['Category', 'Price','Market_Trend_Index',\n",
    "       'Competitor_Activity_Score', 'Consumer_Confidence_Index'])\n",
    "ts_accessory['Date'] = pd.to_datetime(ts_laptop['Date'])"
   ]
  },
  {
   "cell_type": "code",
   "execution_count": 8,
   "id": "67adc54c",
   "metadata": {},
   "outputs": [
    {
     "name": "stdout",
     "output_type": "stream",
     "text": [
      "ADF Statistic: -5.984407154363437\n",
      "p-value: 1.8064856551641487e-07\n",
      "Series is Stationary\n"
     ]
    }
   ],
   "source": [
    "# Check for stationarity\n",
    "from statsmodels.tsa.stattools import adfuller\n",
    "result = adfuller(ts_laptop['Sales_Volume'])\n",
    "print(f\"ADF Statistic: {result[0]}\")\n",
    "print(f\"p-value: {result[1]}\")\n",
    "\n",
    "# If p-value > 0.05, the series is non-stationary\n",
    "if result[1] < 0.05:\n",
    "    print(\"Series is Stationary\")\n",
    "else:\n",
    "    print(\"Series is Non-Stationary\")"
   ]
  },
  {
   "cell_type": "code",
   "execution_count": 9,
   "id": "867b70fb",
   "metadata": {},
   "outputs": [],
   "source": [
    "# Set the date as index\n",
    "ts_laptop.set_index('Date', inplace=True)\n",
    "ts_smartphone.set_index('Date', inplace=True)\n",
    "ts_tablet.set_index('Date', inplace=True)\n",
    "ts_accessory.set_index('Date', inplace=True)"
   ]
  },
  {
   "cell_type": "code",
   "execution_count": 10,
   "id": "776df5ad",
   "metadata": {},
   "outputs": [
    {
     "name": "stdout",
     "output_type": "stream",
     "text": [
      "Shape of the dataset: (4363, 1)\n",
      "Shape of the dataset: (4361, 1)\n",
      "Shape of the dataset: (4371, 1)\n",
      "Shape of the dataset: (4360, 1)\n"
     ]
    }
   ],
   "source": [
    "# Check the shape of the dataset\n",
    "print(f\"Shape of the dataset: {ts_laptop.shape}\")\n",
    "print(f\"Shape of the dataset: {ts_smartphone.shape}\")\n",
    "print(f\"Shape of the dataset: {ts_tablet.shape}\")\n",
    "print(f\"Shape of the dataset: {ts_accessory.shape}\")"
   ]
  },
  {
   "cell_type": "markdown",
   "id": "ac707d52",
   "metadata": {},
   "source": [
    "### **TIME SERIES ANALYSIS**"
   ]
  },
  {
   "cell_type": "markdown",
   "id": "f05326a3",
   "metadata": {},
   "source": [
    "#### **Decompose Data**"
   ]
  },
  {
   "cell_type": "markdown",
   "id": "5cb901a2",
   "metadata": {},
   "source": [
    "##### Additive Model"
   ]
  },
  {
   "cell_type": "code",
   "execution_count": null,
   "id": "028d9812",
   "metadata": {},
   "outputs": [
    {
     "name": "stderr",
     "output_type": "stream",
     "text": [
      "/var/folders/x2/xzn0478s38vfcsjrc5rzqfyr0000gn/T/ipykernel_26647/503644243.py:3: FutureWarning: 'M' is deprecated and will be removed in a future version, please use 'ME' instead.\n",
      "  ts_laptop = ts_laptop.asfreq('M')\n",
      "/var/folders/x2/xzn0478s38vfcsjrc5rzqfyr0000gn/T/ipykernel_26647/503644243.py:6: FutureWarning: 'M' is deprecated and will be removed in a future version, please use 'ME' instead.\n",
      "  ts_smartphone = ts_smartphone.asfreq('M')\n"
     ]
    }
   ],
   "source": [
    "# Specify frequency of the time series\n",
    "ts_laptop.index = pd.to_datetime(ts_laptop.index)  \n",
    "ts_laptop = ts_laptop.asfreq('M')\n",
    "\n",
    "ts_smartphone.index = pd.to_datetime(ts_smartphone.index)  \n",
    "ts_smartphone = ts_smartphone.asfreq('M')\n",
    "\n",
    "ts_tablet.index = pd.to_datetime(ts_tablet.index)  \n",
    "ts_tablet = ts_tablet.asfreq('M')\n",
    "\n",
    "ts_accessory.index = pd.to_datetime(ts_accessory.index)  \n",
    "ts_accessory = ts_accessory.asfreq('M')\n"
   ]
  },
  {
   "cell_type": "code",
   "execution_count": null,
   "id": "3eb77f93",
   "metadata": {},
   "outputs": [
    {
     "data": {
      "application/vnd.microsoft.datawrangler.viewer.v0+json": {
       "columns": [
        {
         "name": "Date",
         "rawType": "datetime64[ns]",
         "type": "datetime"
        },
        {
         "name": "Sales_Volume",
         "rawType": "float64",
         "type": "float"
        }
       ],
       "ref": "3d4c2055-4d12-452d-898f-9fa44df51dd7",
       "rows": [
        [
         "2009-01-01 00:00:00",
         "46.47058823529412"
        ],
        [
         "2009-01-02 00:00:00",
         "52.5"
        ],
        [
         "2009-01-03 00:00:00",
         "31.0"
        ],
        [
         "2009-01-04 00:00:00",
         "77.5"
        ],
        [
         "2009-01-05 00:00:00",
         "65.875"
        ],
        [
         "2009-01-06 00:00:00",
         "63.5"
        ],
        [
         "2009-01-07 00:00:00",
         "47.4"
        ],
        [
         "2009-01-08 00:00:00",
         "45.5"
        ],
        [
         "2009-01-09 00:00:00",
         "46.25"
        ],
        [
         "2009-01-10 00:00:00",
         "41.5"
        ],
        [
         "2009-01-11 00:00:00",
         "46.76923076923077"
        ],
        [
         "2009-01-12 00:00:00",
         "50.3"
        ],
        [
         "2009-01-13 00:00:00",
         "40.57142857142857"
        ],
        [
         "2009-01-14 00:00:00",
         "73.5"
        ],
        [
         "2009-01-15 00:00:00",
         "38.25"
        ],
        [
         "2009-01-16 00:00:00",
         "54.5"
        ],
        [
         "2009-01-17 00:00:00",
         "52.5"
        ],
        [
         "2009-01-18 00:00:00",
         "58.833333333333336"
        ],
        [
         "2009-01-19 00:00:00",
         "57.125"
        ],
        [
         "2009-01-20 00:00:00",
         "64.33333333333333"
        ],
        [
         "2009-01-21 00:00:00",
         "53.57142857142857"
        ],
        [
         "2009-01-22 00:00:00",
         "73.5"
        ],
        [
         "2009-01-23 00:00:00",
         "38.21428571428572"
        ],
        [
         "2009-01-24 00:00:00",
         "58.888888888888886"
        ],
        [
         "2009-01-25 00:00:00",
         "41.625"
        ],
        [
         "2009-01-26 00:00:00",
         "50.375"
        ],
        [
         "2009-01-27 00:00:00",
         "57.77777777777778"
        ],
        [
         "2009-01-28 00:00:00",
         "59.4"
        ],
        [
         "2009-01-29 00:00:00",
         "79.0"
        ],
        [
         "2009-01-30 00:00:00",
         "46.5"
        ],
        [
         "2009-01-31 00:00:00",
         "58.9"
        ],
        [
         "2009-02-01 00:00:00",
         "94.4"
        ],
        [
         "2009-02-02 00:00:00",
         "73.2"
        ],
        [
         "2009-02-03 00:00:00",
         "60.5"
        ],
        [
         "2009-02-04 00:00:00",
         "68.25"
        ],
        [
         "2009-02-05 00:00:00",
         "76.5"
        ],
        [
         "2009-02-06 00:00:00",
         "68.33333333333333"
        ],
        [
         "2009-02-07 00:00:00",
         "57.333333333333336"
        ],
        [
         "2009-02-08 00:00:00",
         "75.6875"
        ],
        [
         "2009-02-09 00:00:00",
         "63.6"
        ],
        [
         "2009-02-10 00:00:00",
         "49.3"
        ],
        [
         "2009-02-11 00:00:00",
         "66.3"
        ],
        [
         "2009-02-12 00:00:00",
         "68.16666666666667"
        ],
        [
         "2009-02-13 00:00:00",
         "71.72727272727273"
        ],
        [
         "2009-02-14 00:00:00",
         "42.0"
        ],
        [
         "2009-02-15 00:00:00",
         "73.22222222222223"
        ],
        [
         "2009-02-16 00:00:00",
         "64.0625"
        ],
        [
         "2009-02-17 00:00:00",
         "56.6"
        ],
        [
         "2009-02-18 00:00:00",
         "65.5"
        ],
        [
         "2009-02-19 00:00:00",
         "32.5"
        ]
       ],
       "shape": {
        "columns": 1,
        "rows": 4381
       }
      },
      "text/html": [
       "<div>\n",
       "<style scoped>\n",
       "    .dataframe tbody tr th:only-of-type {\n",
       "        vertical-align: middle;\n",
       "    }\n",
       "\n",
       "    .dataframe tbody tr th {\n",
       "        vertical-align: top;\n",
       "    }\n",
       "\n",
       "    .dataframe thead th {\n",
       "        text-align: right;\n",
       "    }\n",
       "</style>\n",
       "<table border=\"1\" class=\"dataframe\">\n",
       "  <thead>\n",
       "    <tr style=\"text-align: right;\">\n",
       "      <th></th>\n",
       "      <th>Sales_Volume</th>\n",
       "    </tr>\n",
       "    <tr>\n",
       "      <th>Date</th>\n",
       "      <th></th>\n",
       "    </tr>\n",
       "  </thead>\n",
       "  <tbody>\n",
       "    <tr>\n",
       "      <th>2009-01-01</th>\n",
       "      <td>46.470588</td>\n",
       "    </tr>\n",
       "    <tr>\n",
       "      <th>2009-01-02</th>\n",
       "      <td>52.500000</td>\n",
       "    </tr>\n",
       "    <tr>\n",
       "      <th>2009-01-03</th>\n",
       "      <td>31.000000</td>\n",
       "    </tr>\n",
       "    <tr>\n",
       "      <th>2009-01-04</th>\n",
       "      <td>77.500000</td>\n",
       "    </tr>\n",
       "    <tr>\n",
       "      <th>2009-01-05</th>\n",
       "      <td>65.875000</td>\n",
       "    </tr>\n",
       "    <tr>\n",
       "      <th>...</th>\n",
       "      <td>...</td>\n",
       "    </tr>\n",
       "    <tr>\n",
       "      <th>2020-12-25</th>\n",
       "      <td>177.000000</td>\n",
       "    </tr>\n",
       "    <tr>\n",
       "      <th>2020-12-26</th>\n",
       "      <td>210.600000</td>\n",
       "    </tr>\n",
       "    <tr>\n",
       "      <th>2020-12-27</th>\n",
       "      <td>172.000000</td>\n",
       "    </tr>\n",
       "    <tr>\n",
       "      <th>2020-12-28</th>\n",
       "      <td>163.000000</td>\n",
       "    </tr>\n",
       "    <tr>\n",
       "      <th>2020-12-29</th>\n",
       "      <td>182.000000</td>\n",
       "    </tr>\n",
       "  </tbody>\n",
       "</table>\n",
       "<p>4381 rows × 1 columns</p>\n",
       "</div>"
      ],
      "text/plain": [
       "            Sales_Volume\n",
       "Date                    \n",
       "2009-01-01     46.470588\n",
       "2009-01-02     52.500000\n",
       "2009-01-03     31.000000\n",
       "2009-01-04     77.500000\n",
       "2009-01-05     65.875000\n",
       "...                  ...\n",
       "2020-12-25    177.000000\n",
       "2020-12-26    210.600000\n",
       "2020-12-27    172.000000\n",
       "2020-12-28    163.000000\n",
       "2020-12-29    182.000000\n",
       "\n",
       "[4381 rows x 1 columns]"
      ]
     },
     "execution_count": 29,
     "metadata": {},
     "output_type": "execute_result"
    }
   ],
   "source": [
    "ts_laptop"
   ]
  },
  {
   "cell_type": "code",
   "execution_count": null,
   "id": "0028f152",
   "metadata": {},
   "outputs": [],
   "source": [
    "# Decompose the time series \n",
    "decomposition_smartphone = seasonal_decompose(ts_smartphone, model='additive')\n"
   ]
  },
  {
   "cell_type": "code",
   "execution_count": null,
   "id": "5fd27aae",
   "metadata": {},
   "outputs": [],
   "source": []
  }
 ],
 "metadata": {
  "kernelspec": {
   "display_name": "base",
   "language": "python",
   "name": "python3"
  },
  "language_info": {
   "codemirror_mode": {
    "name": "ipython",
    "version": 3
   },
   "file_extension": ".py",
   "mimetype": "text/x-python",
   "name": "python",
   "nbconvert_exporter": "python",
   "pygments_lexer": "ipython3",
   "version": "3.12.4"
  }
 },
 "nbformat": 4,
 "nbformat_minor": 5
}
